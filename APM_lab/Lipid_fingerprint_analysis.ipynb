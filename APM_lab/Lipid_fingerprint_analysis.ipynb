{
 "cells": [
  {
   "cell_type": "markdown",
   "id": "f976419c-5d36-48ca-9e0c-f6e7455a17f1",
   "metadata": {},
   "source": [
    "# Lipid fingerprint analysis"
   ]
  },
  {
   "cell_type": "markdown",
   "id": "0c2ee13c-0ab5-4b46-b71c-6cc79aa86792",
   "metadata": {},
   "source": [
    "This script analyzes membrane-protein or membrane-peptide MD trajectories and studies the protein-lipid interactions, including:\n",
    "\n",
    "- Density maps --> GROMACS densmap of lipids in the XY plane\n",
    "\n",
    "- DE index --> MDAnalysis of the depletion-enrichment index\n",
    "\n",
    "- Occupancy --> % time a residue has been in contact w/ an specific lipid (headgroup)\n",
    "\n",
    "- Residence time --> PyLipid analysis of theaverage residence time of a given lipid (headgroup)\n",
    "\n",
    "- Pocket prediction --> prediction of pockets, residence times, occupancies, etc\n"
   ]
  },
  {
   "cell_type": "markdown",
   "id": "cce54626-f1c6-4c3a-9deb-7a8a0c24c15b",
   "metadata": {
    "tags": []
   },
   "source": [
    "## Import modules"
   ]
  },
  {
   "cell_type": "code",
   "execution_count": 36,
   "id": "079f2165-ea34-44d6-8924-66ccc486bb0f",
   "metadata": {},
   "outputs": [],
   "source": [
    "import numpy as np\n",
    "import matplotlib.pyplot as plt\n",
    "import MDAnalysis as mda\n",
    "from MDAnalysis.analysis import leaflet\n",
    "import glob, os\n",
    "import pandas as pd\n",
    "import seaborn as sns\n",
    "import re"
   ]
  },
  {
   "cell_type": "markdown",
   "id": "141a0f79-07ac-4eae-8a59-50e57703481e",
   "metadata": {},
   "source": [
    "# Create folders"
   ]
  },
  {
   "cell_type": "code",
   "execution_count": 44,
   "id": "cd23bcba-1a04-49c0-9383-950a988e7d7a",
   "metadata": {},
   "outputs": [
    {
     "ename": "OSError",
     "evalue": "[WinError 433] Se ha especificado un dispositivo que no existe: 'A'",
     "output_type": "error",
     "traceback": [
      "\u001b[1;31m---------------------------------------------------------------------------\u001b[0m",
      "\u001b[1;31mOSError\u001b[0m                                   Traceback (most recent call last)",
      "Cell \u001b[1;32mIn [44], line 1\u001b[0m\n\u001b[1;32m----> 1\u001b[0m \u001b[43mos\u001b[49m\u001b[38;5;241;43m.\u001b[39;49m\u001b[43mmkdir\u001b[49m\u001b[43m(\u001b[49m\u001b[38;5;124;43m'\u001b[39;49m\u001b[38;5;124;43mA\u001b[39;49m\u001b[38;5;124;43m'\u001b[39;49m\u001b[43m)\u001b[49m\n",
      "\u001b[1;31mOSError\u001b[0m: [WinError 433] Se ha especificado un dispositivo que no existe: 'A'"
     ]
    }
   ],
   "source": [
    "os.mkdir('Analysis')"
   ]
  },
  {
   "cell_type": "markdown",
   "id": "efb976ee-2382-4805-8b0e-db20f4dcf98d",
   "metadata": {},
   "source": [
    "### 1.- Assign variables"
   ]
  },
  {
   "cell_type": "code",
   "execution_count": 12,
   "id": "32eaec90-cf9d-415f-9356-b1ff529dc12c",
   "metadata": {},
   "outputs": [],
   "source": [
    "traj_file = 'centered_step7_1.xtc' #Trajectory filename\n",
    "top_file = 'step6.6_equilibration.gro' #Topology filename\n",
    "in_memory = True #Load all trajectory to the memory?\n",
    "memory_step = 1000 #Memory step to load if in_memory=True\n",
    "\n",
    "lipid_list = [\"POPC\", \"POPS\", \"POSM\", \"POPE\", \"POPI\"] #List of lipids to check for\n",
    "\n",
    "contact_cutoff = 5.5 #Assign a cutoff value for the contacts \n",
    "target = \"protein\" #Assign target to calculate contacts"
   ]
  },
  {
   "cell_type": "markdown",
   "id": "4ff5d543-6280-4b65-bef0-163f0ecd88de",
   "metadata": {},
   "source": [
    "### 2.- Load trajectory and preparations"
   ]
  },
  {
   "cell_type": "code",
   "execution_count": 13,
   "id": "471712c2-d7c2-4ed1-a4a6-280a320edfb6",
   "metadata": {},
   "outputs": [
    {
     "name": "stdout",
     "output_type": "stream",
     "text": [
      "Loaded trajectory: <Universe with 32181 atoms>\n",
      "Number of frames: 11\n"
     ]
    }
   ],
   "source": [
    "#Load trajectory as MDA universe object\n",
    "u = mda.Universe(top_file, traj_file, in_memory=in_memory, in_memory_step=memory_step)\n",
    "\n",
    "print(\"Loaded trajectory: {}\".format(u))\n",
    "print(\"Number of frames: {}\".format(len(u.trajectory)))\n"
   ]
  },
  {
   "cell_type": "markdown",
   "id": "7f600ecd-5619-494f-a02c-7d52b7aeb3d8",
   "metadata": {},
   "source": [
    "### 3.- Generate density maps"
   ]
  },
  {
   "cell_type": "code",
   "execution_count": 16,
   "id": "a3458fd3-32a3-4c1c-85e7-3dc533683c9e",
   "metadata": {},
   "outputs": [
    {
     "data": {
      "text/plain": [
       "1"
      ]
     },
     "execution_count": 16,
     "metadata": {},
     "output_type": "execute_result"
    }
   ],
   "source": [
    "os.system('mkdir ./Analysis/Densmaps')"
   ]
  },
  {
   "cell_type": "code",
   "execution_count": null,
   "id": "9991718e-21a5-4cb9-a50f-283f3e303b4e",
   "metadata": {},
   "outputs": [],
   "source": [
    "lipids = ['Protein', 'POSM', 'POPC', 'POPE', 'POPS', 'POPI']\n",
    "index_number = [1, 13, 14, 15, 16, 17] \n",
    "\n",
    "for i in range(6):\n",
    "    densmap = 'echo ' + str(index_number[i]) + ' | gmx densmap -f join_trajectory.xtc -s system_top.gro -od ./Def_analysis/Densmaps/' + lipids[i] + '_densmap.dat'\n",
    "    os.system(densmap)\n",
    "\n",
    "\n",
    "\n",
    "#same for membrane only\n",
    "\n",
    "lipids = ['POPC', 'POSM', 'POPS', 'POPE', 'POPI']\n",
    "index_number = [2, 3, 4, 5, 6] \n",
    "\n",
    "for i in range(5):\n",
    "    densmap = 'echo ' + str(index_number[i]) + ' | gmx densmap -f join_mbr_only.xtc -s mbr_only_01.gro -od ./Def_analysis/Densmaps/Control_' + lipids[i] + '_densmap.dat'\n",
    "    os.system(densmap)\n"
   ]
  }
 ],
 "metadata": {
  "kernelspec": {
   "display_name": "Python 3 (ipykernel)",
   "language": "python",
   "name": "python3"
  },
  "language_info": {
   "codemirror_mode": {
    "name": "ipython",
    "version": 3
   },
   "file_extension": ".py",
   "mimetype": "text/x-python",
   "name": "python",
   "nbconvert_exporter": "python",
   "pygments_lexer": "ipython3",
   "version": "3.8.13"
  }
 },
 "nbformat": 4,
 "nbformat_minor": 5
}
